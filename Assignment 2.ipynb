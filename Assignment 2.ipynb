{
 "cells": [
  {
   "cell_type": "markdown",
   "id": "eeb1b9af",
   "metadata": {},
   "source": [
    "### Question 1\n",
    "Write a Python function named ConvertToArray(str) which takes a string of numbers separated by commas and colon. The function should then convert this string into a array of numbers and return\n",
    "it to the user. For converting the string into array use the following rules:\n",
    "(i) The colon distinguishes the elements by row i.e., all the values before the colon should be placed in single\n",
    "row of the array.\n",
    "(ii) The comma distinguishes the elements by column i.e., all the values separated by comma will be placed in\n",
    "columns in the same row of the array.\n",
    "For example, if the input is ’1,2,3;4,5,6;7,8,9’ then the output should be\n",
    "\n",
    "1 2 3\n",
    "4 5 6\n",
    "7 8 9\n",
    "\n",
    "Similarly, if the input is ’1.1,2,3;4,5.55,6;7,8,9.09’ then the output should be\n",
    "\n",
    "1.1 2.0 3.0\n",
    "4.0 5.55 6.0\n",
    "7.0 8.0 9.09\n",
    "\n",
    "\n",
    "Hint: You can use the string operations and the list comprehension technique."
   ]
  },
  {
   "cell_type": "code",
   "execution_count": 1,
   "id": "2a97e92b",
   "metadata": {},
   "outputs": [
    {
     "name": "stdout",
     "output_type": "stream",
     "text": [
      "Enter the number of the matrix : 1,2,3;4,5,6;7,8,9\n",
      "The matrix is: \n",
      "\n",
      "1\t2\t3\t\n",
      "4\t5\t6\t\n",
      "7\t8\t9\t"
     ]
    }
   ],
   "source": [
    "def ConvertToArray(s):\n",
    "    s= s.split(\";\")\n",
    "    mat = [i.split(\",\") for i in s]\n",
    "    return mat\n",
    "def displayMat(mat):\n",
    "    print(\"The matrix is: \")\n",
    "    for i in range(0,len(mat)):\n",
    "        print()\n",
    "        for j in range(0, len(mat)):\n",
    "            print(mat[i][j], end=\"\\t\")\n",
    "mat=ConvertToArray(input(\"Enter the number of the matrix : \"))\n",
    "displayMat(mat)"
   ]
  },
  {
   "cell_type": "code",
   "execution_count": 2,
   "id": "33d93432",
   "metadata": {},
   "outputs": [
    {
     "name": "stdout",
     "output_type": "stream",
     "text": [
      "Enter the number of the matrix : 1.1,2,3;4,5.55,6;7,8,9.09\n",
      "The matrix is: \n",
      "\n",
      "1.1\t2\t3\t\n",
      "4\t5.55\t6\t\n",
      "7\t8\t9.09\t"
     ]
    }
   ],
   "source": [
    "mat=ConvertToArray(input(\"Enter the number of the matrix : \"))\n",
    "displayMat(mat)"
   ]
  },
  {
   "cell_type": "markdown",
   "id": "7716d829",
   "metadata": {},
   "source": [
    "### Question 2\n",
    "Write a function named ArraySize(array) which accepts a list of numbers and returns its\n",
    "dimension (i.e., number of rows and columns). For example, if the array = [1,2,3,4] then the output\n",
    "should be (1,4). If the array = [[1,2,3,4],[5,6,7,8]] then the output should be (2,4).\n",
    "Hint: You can use the len() function to obtain the number of elements."
   ]
  },
  {
   "cell_type": "code",
   "execution_count": 14,
   "id": "ffc36f8a",
   "metadata": {},
   "outputs": [
    {
     "name": "stdout",
     "output_type": "stream",
     "text": [
      "Enter the number of the matrix : 1.1,2,3;4,5.55,6;7,8,9.09\n",
      "The array is : [['1.1', '2', '3'], ['4', '5.55', '6'], ['7', '8', '9.09']]\n",
      "The size of the array is (3, 3)\n"
     ]
    }
   ],
   "source": [
    "def ArraySize(array):\n",
    "    if len(array)!=1:\n",
    "        row = len(array)\n",
    "        col = len(array[0])\n",
    "    else:\n",
    "        row =1\n",
    "        col= len(array)\n",
    "    return col,row\n",
    "\n",
    "mat=ConvertToArray(input(\"Enter the number of the matrix : \"))\n",
    "print(f\"The array is : {mat}\")\n",
    "print(f\"The size of the array is {ArraySize(mat)}\")"
   ]
  },
  {
   "cell_type": "code",
   "execution_count": 15,
   "id": "ebd0248d",
   "metadata": {},
   "outputs": [
    {
     "name": "stdout",
     "output_type": "stream",
     "text": [
      "Enter the number of the matrix : 1,2,3,4;5,6,7,8\n",
      "The array is : [['1', '2', '3', '4'], ['5', '6', '7', '8']]\n",
      "The size of the array is (4, 2)\n"
     ]
    }
   ],
   "source": [
    "mat=ConvertToArray(input(\"Enter the number of the matrix : \"))\n",
    "print(f\"The array is : {mat}\")\n",
    "print(f\"The size of the array is {ArraySize(mat)}\")"
   ]
  },
  {
   "cell_type": "markdown",
   "id": "91ce63b6",
   "metadata": {},
   "source": [
    "### Question 3\n",
    "Write a function ArrayOperations(array1,array2,operation) where the operation\n",
    "is either add, subtract and dotproduct. Then the function should perform the operations of addition,\n",
    "subtraction and element-wise multiplication respectively on the arrays array1 and array2.\n",
    "Remark: Please note that, for the specified operations to be performed both arrays should have same dimension\n",
    "and to check this, you can use the above function ArraySize."
   ]
  },
  {
   "cell_type": "code",
   "execution_count": 30,
   "id": "02efe3f7",
   "metadata": {},
   "outputs": [
    {
     "name": "stdout",
     "output_type": "stream",
     "text": [
      "Enter the elements separated by comma, Row by semi colon and array by /: 1,2,3;4,5,6/5,6,7;3,4,5\n",
      "Enter the operation : +\n",
      "The result after the operations + is =\n",
      " [[6, 8, 10], [7, 9, 11]]\n"
     ]
    }
   ],
   "source": [
    "def ArrayOperations(array1, array2, operation):\n",
    "    if ArraySize(array1) != ArraySize(array2):\n",
    "        return \"Arrays must have the same dimensions for element-wise operations.\"\n",
    "\n",
    "    rows = len(array1)\n",
    "    cols = len(array1[0])  \n",
    "\n",
    "    result = []\n",
    "\n",
    "    if operation == \"+\":\n",
    "        for i in range(rows):\n",
    "            row_result = []\n",
    "            for j in range(cols):\n",
    "                row_result.append(int(array1[i][j]) + int(array2[i][j]))\n",
    "            result.append(row_result)\n",
    "    elif operation == \"-\":\n",
    "        for i in range(rows):\n",
    "            row_result = []\n",
    "            for j in range(cols):\n",
    "                row_result.append(int(array1[i][j]) - int(array2[i][j]))\n",
    "            result.append(row_result)\n",
    "    elif operation == \"*\":\n",
    "        result = 0\n",
    "        for i in range(rows):\n",
    "            for j in range(cols):\n",
    "                result += int(array1[i][j]) * int(array2[i][j])\n",
    "    else:\n",
    "        return \"Invalid operation. Supported operations are '+', '-', and '*'.\"\n",
    "\n",
    "    return result\n",
    "\n",
    "\n",
    "arrs = input(\"Enter the elements separated by comma, Row by semi colon and array by /: \").split(\"/\")\n",
    "operation= input(\"Enter the operation : \")\n",
    "ans = ArrayOperations(ConvertToArray(arrs[0]),ConvertToArray(arrs[1]),operation)\n",
    "print(f\"The result after the operations {operation} is =\\n {ans}\")"
   ]
  },
  {
   "cell_type": "code",
   "execution_count": 31,
   "id": "243ef04a",
   "metadata": {},
   "outputs": [
    {
     "name": "stdout",
     "output_type": "stream",
     "text": [
      "Enter the elements separated by comma, Row by semi colon and array by /: 1,2,3;4,5,6/5,6,7;3,4,5\n",
      "Enter the operation : -\n",
      "The result after the operations - is =\n",
      " [[-4, -4, -4], [1, 1, 1]]\n"
     ]
    }
   ],
   "source": [
    "arrs = input(\"Enter the elements separated by comma, Row by semi colon and array by /: \").split(\"/\")\n",
    "operation= input(\"Enter the operation : \")\n",
    "ans = ArrayOperations(ConvertToArray(arrs[0]),ConvertToArray(arrs[1]),operation)\n",
    "print(f\"The result after the operations {operation} is =\\n {ans}\")"
   ]
  },
  {
   "cell_type": "code",
   "execution_count": 32,
   "id": "c5277448",
   "metadata": {},
   "outputs": [
    {
     "name": "stdout",
     "output_type": "stream",
     "text": [
      "Enter the elements separated by comma, Row by semi colon and array by /: 1,2,3;4,5,6/5,6,7;3,4,5\n",
      "Enter the operation : *\n",
      "The result after the operations * is =\n",
      " 100\n"
     ]
    }
   ],
   "source": [
    "arrs = input(\"Enter the elements separated by comma, Row by semi colon and array by /: \").split(\"/\")\n",
    "operation= input(\"Enter the operation : \")\n",
    "ans = ArrayOperations(ConvertToArray(arrs[0]),ConvertToArray(arrs[1]),operation)\n",
    "print(f\"The result after the operations {operation} is =\\n {ans}\")"
   ]
  },
  {
   "cell_type": "code",
   "execution_count": null,
   "id": "e60a9a60",
   "metadata": {},
   "outputs": [],
   "source": []
  }
 ],
 "metadata": {
  "kernelspec": {
   "display_name": "Python 3 (ipykernel)",
   "language": "python",
   "name": "python3"
  },
  "language_info": {
   "codemirror_mode": {
    "name": "ipython",
    "version": 3
   },
   "file_extension": ".py",
   "mimetype": "text/x-python",
   "name": "python",
   "nbconvert_exporter": "python",
   "pygments_lexer": "ipython3",
   "version": "3.9.7"
  }
 },
 "nbformat": 4,
 "nbformat_minor": 5
}
